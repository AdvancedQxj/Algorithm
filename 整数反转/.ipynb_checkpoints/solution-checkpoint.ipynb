{
 "cells": [
  {
   "cell_type": "code",
   "execution_count": 10,
   "metadata": {},
   "outputs": [],
   "source": [
    "class Solution:\n",
    "    def reverse(self, x: int) -> int:\n",
    "        x_str = str(x)\n",
    "        if '-' in x_str:\n",
    "            ans = int(x_str[:0:-1])\n",
    "            if (-2**31 < -ans):\n",
    "                return -ans\n",
    "            else:\n",
    "                return 0\n",
    "        ans = int(x_str[::-1])\n",
    "        if (ans < 2**31 - 1):\n",
    "            return ans\n",
    "        else:\n",
    "            return 0"
   ]
  }
 ],
 "metadata": {
  "kernelspec": {
   "display_name": "Python 3",
   "language": "python",
   "name": "python3"
  },
  "language_info": {
   "codemirror_mode": {
    "name": "ipython",
    "version": 3
   },
   "file_extension": ".py",
   "mimetype": "text/x-python",
   "name": "python",
   "nbconvert_exporter": "python",
   "pygments_lexer": "ipython3",
   "version": "3.8.3"
  }
 },
 "nbformat": 4,
 "nbformat_minor": 4
}
